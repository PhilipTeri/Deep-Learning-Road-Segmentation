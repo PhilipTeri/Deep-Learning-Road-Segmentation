{
 "cells": [
  {
   "cell_type": "code",
   "execution_count": null,
   "id": "85655476",
   "metadata": {},
   "outputs": [],
   "source": [
    "#https://stackoverflow.com/questions/47785918/python-pil-crop-all-images-in-a-folder"
   ]
  },
  {
   "cell_type": "code",
   "execution_count": 16,
   "id": "e0102133",
   "metadata": {},
   "outputs": [],
   "source": [
    "from PIL import Image\n",
    "import os.path, sys\n",
    "\n",
    "\n",
    "import pandas as pd"
   ]
  },
  {
   "cell_type": "code",
   "execution_count": 17,
   "id": "4ae0edd6",
   "metadata": {},
   "outputs": [],
   "source": [
    "\n",
    "\n",
    "path = 'C:/Users/Phil/Desktop/Roads DataSet/road_segmentation_ideal/training/input'\n",
    "dirs = os.listdir(path)\n",
    "\n",
    "\n",
    "\n",
    "def crop():\n",
    "    for item in dirs:\n",
    "        fullpath = os.path.join(path,item)         #corrected\n",
    "        if os.path.isfile(fullpath):\n",
    "            im = Image.open(fullpath)\n",
    "            f, e = os.path.splitext(fullpath)\n",
    "            imCrop = im.crop((0, 0, 128, 128)) #corrected\n",
    "            imCrop.save(f + 'Cropped.png', \"PNG\", quality=100)\n",
    "\n",
    "crop()"
   ]
  },
  {
   "cell_type": "code",
   "execution_count": 18,
   "id": "354b2894",
   "metadata": {},
   "outputs": [],
   "source": [
    "path = 'C:/Users/Phil/Desktop/Roads DataSet/road_segmentation_ideal/training/output'\n",
    "dirs = os.listdir(path)\n",
    "\n",
    "def crop():\n",
    "    for item in dirs:\n",
    "        fullpath = os.path.join(path,item)         #corrected\n",
    "        if os.path.isfile(fullpath):\n",
    "            im = Image.open(fullpath)\n",
    "            f, e = os.path.splitext(fullpath)\n",
    "            imCrop = im.crop((0, 0, 128, 128)) #corrected\n",
    "            imCrop.save(f + 'Cropped.png', \"PNG\", quality=100)\n",
    "\n",
    "crop()"
   ]
  },
  {
   "cell_type": "code",
   "execution_count": null,
   "id": "2865f220",
   "metadata": {},
   "outputs": [],
   "source": []
  },
  {
   "cell_type": "code",
   "execution_count": null,
   "id": "f2a33169",
   "metadata": {},
   "outputs": [],
   "source": []
  },
  {
   "cell_type": "code",
   "execution_count": null,
   "id": "6eb21c13",
   "metadata": {},
   "outputs": [],
   "source": []
  }
 ],
 "metadata": {
  "kernelspec": {
   "display_name": "Python [conda env:deeplearning] *",
   "language": "python",
   "name": "conda-env-deeplearning-py"
  },
  "language_info": {
   "codemirror_mode": {
    "name": "ipython",
    "version": 3
   },
   "file_extension": ".py",
   "mimetype": "text/x-python",
   "name": "python",
   "nbconvert_exporter": "python",
   "pygments_lexer": "ipython3",
   "version": "3.7.10"
  }
 },
 "nbformat": 4,
 "nbformat_minor": 5
}
